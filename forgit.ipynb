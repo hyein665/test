{
 "cells": [
  {
   "cell_type": "code",
   "execution_count": null,
   "metadata": {},
   "outputs": [],
   "source": [
    "infilename = input(\"입력 파일 이름 : \")\n",
    "infile = open(infilename, \"r\")\n",
    "rfile = infile.read()\n",
    "alp = {}\n",
    "\n",
    "for line in rfile:\n",
    "    for ch in line:\n",
    "        if ch in alp:\n",
    "            alp[ch] += 1\n",
    "        else:\n",
    "            alp[ch] = 1\n",
    "print(alp)\n",
    "\n",
    "infile.close()\n"
   ]
  }
 ],
 "metadata": {
  "kernelspec": {
   "display_name": "Python 3",
   "language": "python",
   "name": "python3"
  },
  "language_info": {
   "codemirror_mode": {
    "name": "ipython",
    "version": 3
   },
   "file_extension": ".py",
   "mimetype": "text/x-python",
   "name": "python",
   "nbconvert_exporter": "python",
   "pygments_lexer": "ipython3",
   "version": "3.7.6"
  }
 },
 "nbformat": 4,
 "nbformat_minor": 4
}
